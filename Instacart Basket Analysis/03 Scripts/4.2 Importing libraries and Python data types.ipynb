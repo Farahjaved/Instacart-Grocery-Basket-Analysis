{
 "cells": [
  {
   "cell_type": "markdown",
   "id": "6773a4e3-6ad7-4e3e-a85e-e51f5aed3007",
   "metadata": {},
   "source": [
    "# 01. Importing libraries"
   ]
  },
  {
   "cell_type": "code",
   "execution_count": 1,
   "id": "a5a7b988-9fa1-4e86-8bfd-1db093c4ba23",
   "metadata": {},
   "outputs": [],
   "source": [
    "import pandas as pd\n",
    "import numpy as np\n",
    "import os"
   ]
  },
  {
   "cell_type": "markdown",
   "id": "77252821-e069-4f6d-adb0-1a68b46fa5a2",
   "metadata": {},
   "source": [
    "# 02. Data Types"
   ]
  },
  {
   "cell_type": "markdown",
   "id": "bb2d8909-99c4-4c6e-b264-58919e057b0d",
   "metadata": {},
   "source": [
    "## Three ways of reaching 100"
   ]
  },
  {
   "cell_type": "code",
   "execution_count": 21,
   "id": "8ad7328a-a463-43e8-8aa2-b650e8da05d0",
   "metadata": {},
   "outputs": [],
   "source": [
    "x=50"
   ]
  },
  {
   "cell_type": "code",
   "execution_count": 22,
   "id": "48f91f30-1460-40ab-93d6-134b69084339",
   "metadata": {},
   "outputs": [],
   "source": [
    "y=50"
   ]
  },
  {
   "cell_type": "code",
   "execution_count": 23,
   "id": "0dd06843-8efe-4fe4-95c6-662d12c1fb78",
   "metadata": {},
   "outputs": [
    {
     "data": {
      "text/plain": [
       "100"
      ]
     },
     "execution_count": 23,
     "metadata": {},
     "output_type": "execute_result"
    }
   ],
   "source": [
    "x+y"
   ]
  },
  {
   "cell_type": "code",
   "execution_count": 26,
   "id": "39cd60b1-7c07-4c6f-b178-9bde7a3fc915",
   "metadata": {},
   "outputs": [
    {
     "data": {
      "text/plain": [
       "100"
      ]
     },
     "execution_count": 26,
     "metadata": {},
     "output_type": "execute_result"
    }
   ],
   "source": [
    "x*2"
   ]
  },
  {
   "cell_type": "code",
   "execution_count": 28,
   "id": "37bcff4c-4336-4297-8197-acd892d01706",
   "metadata": {},
   "outputs": [],
   "source": [
    "z=(x+y)*2"
   ]
  },
  {
   "cell_type": "code",
   "execution_count": 30,
   "id": "cef9058d-72f8-4bff-a11c-15bd7f535126",
   "metadata": {},
   "outputs": [
    {
     "name": "stdout",
     "output_type": "stream",
     "text": [
      "200\n"
     ]
    }
   ],
   "source": [
    "print (z)"
   ]
  },
  {
   "cell_type": "code",
   "execution_count": 31,
   "id": "f58f4d7e-8a85-40a7-b49b-ed02420fc229",
   "metadata": {},
   "outputs": [
    {
     "data": {
      "text/plain": [
       "100"
      ]
     },
     "execution_count": 31,
     "metadata": {},
     "output_type": "execute_result"
    }
   ],
   "source": [
    "z-100"
   ]
  },
  {
   "cell_type": "markdown",
   "id": "5570f08e-e846-45bb-a1f0-25771e74d703",
   "metadata": {},
   "source": [
    "## floating-point variables"
   ]
  },
  {
   "cell_type": "code",
   "execution_count": 32,
   "id": "89e3bf5d-c432-4a4b-b5b5-62202490d09a",
   "metadata": {},
   "outputs": [],
   "source": [
    "a=2.5"
   ]
  },
  {
   "cell_type": "code",
   "execution_count": 33,
   "id": "61f507eb-e9f2-4ebf-a5ea-a10aedbfd61b",
   "metadata": {},
   "outputs": [],
   "source": [
    "b=7.32"
   ]
  },
  {
   "cell_type": "code",
   "execution_count": 34,
   "id": "419691d6-b9f8-4052-9e7c-5565e6ad0fca",
   "metadata": {},
   "outputs": [
    {
     "data": {
      "text/plain": [
       "0.34153005464480873"
      ]
     },
     "execution_count": 34,
     "metadata": {},
     "output_type": "execute_result"
    }
   ],
   "source": [
    "a/b"
   ]
  },
  {
   "cell_type": "markdown",
   "id": "0f105f7d-7da8-4028-aa2a-c7fb4639505e",
   "metadata": {},
   "source": [
    "## creating strings"
   ]
  },
  {
   "cell_type": "code",
   "execution_count": 35,
   "id": "cbcb7a04-7e7b-4f2c-92e3-34219ea4a49e",
   "metadata": {},
   "outputs": [],
   "source": [
    "c='Py'"
   ]
  },
  {
   "cell_type": "code",
   "execution_count": 36,
   "id": "5dea8a4c-1f56-406e-a290-271179562443",
   "metadata": {},
   "outputs": [],
   "source": [
    "d='thon'"
   ]
  },
  {
   "cell_type": "code",
   "execution_count": 37,
   "id": "707da235-6c7f-4fad-8aaa-94320ba37c36",
   "metadata": {},
   "outputs": [
    {
     "data": {
      "text/plain": [
       "'Python'"
      ]
     },
     "execution_count": 37,
     "metadata": {},
     "output_type": "execute_result"
    }
   ],
   "source": [
    "c+d"
   ]
  },
  {
   "cell_type": "code",
   "execution_count": 38,
   "id": "26badb05-4994-4e50-9145-6c7c1de36abd",
   "metadata": {},
   "outputs": [],
   "source": [
    "e='Hello '"
   ]
  },
  {
   "cell_type": "code",
   "execution_count": 39,
   "id": "0161a4bb-300c-4bd4-a110-e4169ee49248",
   "metadata": {},
   "outputs": [],
   "source": [
    "f='World!'"
   ]
  },
  {
   "cell_type": "code",
   "execution_count": 40,
   "id": "f26700ee-c7fa-4016-b996-09373ca2e111",
   "metadata": {},
   "outputs": [
    {
     "data": {
      "text/plain": [
       "'Hello World!'"
      ]
     },
     "execution_count": 40,
     "metadata": {},
     "output_type": "execute_result"
    }
   ],
   "source": [
    "e+f"
   ]
  },
  {
   "cell_type": "code",
   "execution_count": 41,
   "id": "31c15cab-e36a-4670-9c4d-bc77ded78e52",
   "metadata": {},
   "outputs": [],
   "source": [
    "g='My name '"
   ]
  },
  {
   "cell_type": "code",
   "execution_count": 42,
   "id": "5b5d6a7d-9400-48c2-a9bd-ec7008c7d015",
   "metadata": {},
   "outputs": [],
   "source": [
    "h='is Farah.'"
   ]
  },
  {
   "cell_type": "code",
   "execution_count": 43,
   "id": "2ea4ecfd-8b85-4e2e-84dd-71eb4bf53369",
   "metadata": {},
   "outputs": [
    {
     "data": {
      "text/plain": [
       "'My name is Farah.'"
      ]
     },
     "execution_count": 43,
     "metadata": {},
     "output_type": "execute_result"
    }
   ],
   "source": [
    "g+h"
   ]
  },
  {
   "cell_type": "markdown",
   "id": "e2059258-f9a9-4dd5-af18-957ef9ac7f0f",
   "metadata": {},
   "source": [
    "## Bonus task"
   ]
  },
  {
   "cell_type": "code",
   "execution_count": 44,
   "id": "1271d64b-6f46-4c12-803a-3e77bdc457f2",
   "metadata": {},
   "outputs": [
    {
     "data": {
      "text/plain": [
       "'Hello Hello Hello Hello Hello Hello Hello Hello Hello Hello Hello Hello Hello Hello Hello Hello Hello Hello Hello Hello Hello Hello Hello Hello Hello Hello Hello Hello Hello Hello Hello Hello Hello Hello Hello Hello Hello Hello Hello Hello Hello Hello Hello Hello Hello Hello Hello Hello Hello Hello Hello Hello Hello Hello Hello Hello Hello Hello Hello Hello Hello Hello Hello Hello Hello Hello Hello Hello Hello Hello Hello Hello Hello Hello Hello Hello Hello Hello Hello Hello Hello Hello Hello Hello Hello Hello Hello Hello Hello Hello Hello Hello Hello Hello Hello Hello Hello Hello Hello Hello '"
      ]
     },
     "execution_count": 44,
     "metadata": {},
     "output_type": "execute_result"
    }
   ],
   "source": [
    "e*100"
   ]
  }
 ],
 "metadata": {
  "kernelspec": {
   "display_name": "Python [conda env:base] *",
   "language": "python",
   "name": "conda-base-py"
  },
  "language_info": {
   "codemirror_mode": {
    "name": "ipython",
    "version": 3
   },
   "file_extension": ".py",
   "mimetype": "text/x-python",
   "name": "python",
   "nbconvert_exporter": "python",
   "pygments_lexer": "ipython3",
   "version": "3.13.5"
  }
 },
 "nbformat": 4,
 "nbformat_minor": 5
}
